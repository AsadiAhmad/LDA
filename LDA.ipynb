{
  "nbformat": 4,
  "nbformat_minor": 0,
  "metadata": {
    "colab": {
      "provenance": [],
      "toc_visible": true
    },
    "kernelspec": {
      "name": "python3",
      "display_name": "Python 3"
    },
    "language_info": {
      "name": "python"
    }
  },
  "cells": [
    {
      "cell_type": "markdown",
      "source": [
        "# Step1 : Import Librarys"
      ],
      "metadata": {
        "id": "gC90xnlgJtzB"
      }
    },
    {
      "cell_type": "code",
      "execution_count": null,
      "metadata": {
        "id": "iA_LnIOPy1SD"
      },
      "outputs": [],
      "source": [
        "import numpy as np\n",
        "import math\n",
        "import matplotlib.pyplot as plt"
      ]
    },
    {
      "cell_type": "markdown",
      "source": [
        "# Step2 : Get Data"
      ],
      "metadata": {
        "id": "U830nxA4J9K3"
      }
    },
    {
      "cell_type": "code",
      "source": [
        "class1 = [[2, 1], [3, 2], [1, 0]]\n",
        "class2 = [[-1, -2], [-2, -1], [-1, -1]]\n",
        "class1 = np.array(class1, dtype=float)\n",
        "class2 = np.array(class2, dtype=float)\n",
        "data = [class1, class2]"
      ],
      "metadata": {
        "id": "kdUULckAKJqm"
      },
      "execution_count": null,
      "outputs": []
    },
    {
      "cell_type": "markdown",
      "source": [
        "# Step3 : Calculate Mean Vectors"
      ],
      "metadata": {
        "id": "N-BCdDwULRBk"
      }
    },
    {
      "cell_type": "code",
      "source": [
        "mean = []\n",
        "for class_data in data:\n",
        "    mean_vector = [0]*len(class_data[0])\n",
        "    for vector in class_data:\n",
        "        for index, element in enumerate(vector):\n",
        "            mean_vector[index] += element\n",
        "    for index, element in enumerate(mean_vector):\n",
        "            mean_vector[index] /= len(class_data)\n",
        "    mean.append(mean_vector)"
      ],
      "metadata": {
        "id": "7q4P5uwHLVYt"
      },
      "execution_count": null,
      "outputs": []
    },
    {
      "cell_type": "code",
      "source": [
        "mean"
      ],
      "metadata": {
        "colab": {
          "base_uri": "https://localhost:8080/"
        },
        "id": "qoxQAz0pQOtU",
        "outputId": "e92018a3-ecf5-4b44-bf3e-4244d599b332"
      },
      "execution_count": null,
      "outputs": [
        {
          "output_type": "execute_result",
          "data": {
            "text/plain": [
              "[[2.0, 1.0], [-1.3333333333333333, -1.3333333333333333]]"
            ]
          },
          "metadata": {},
          "execution_count": 5
        }
      ]
    },
    {
      "cell_type": "markdown",
      "source": [
        "# Step4 : Calculate Scatter Matrixes"
      ],
      "metadata": {
        "id": "oZESXhdVVXwv"
      }
    },
    {
      "cell_type": "code",
      "source": [
        "final_scatter_matrix_list = []\n",
        "for index_class, class_data in enumerate(data):\n",
        "    scatter_matrix = [[0]*len(class_data[0])] * len(class_data[0])\n",
        "    scatter_matrix = np.array(scatter_matrix, dtype=float)\n",
        "    for vector in class_data:\n",
        "        scatter_vector = [0]*len(class_data[0])\n",
        "        scatter_vector = np.array(scatter_vector, dtype=float)\n",
        "        for index, element in enumerate(vector):\n",
        "            scatter_vector[index] = element - mean[index_class][index]\n",
        "\n",
        "        scatter_vector = scatter_vector.reshape(-1, 1)\n",
        "        scatter_matrix += scatter_vector @ scatter_vector.T\n",
        "    final_scatter_matrix_list.append(scatter_matrix)\n",
        "\n",
        "final_scatter_matrix = [[0]*len(class_data[0])] * len(class_data[0])\n",
        "for matrix in final_scatter_matrix_list:\n",
        "    final_scatter_matrix += matrix"
      ],
      "metadata": {
        "id": "HrnacjldWrbR"
      },
      "execution_count": null,
      "outputs": []
    },
    {
      "cell_type": "code",
      "source": [
        "final_scatter_matrix"
      ],
      "metadata": {
        "colab": {
          "base_uri": "https://localhost:8080/"
        },
        "id": "pqHpXo-ml4uW",
        "outputId": "aa4c90f1-f7a3-478c-dc63-18b156517207"
      },
      "execution_count": null,
      "outputs": [
        {
          "output_type": "execute_result",
          "data": {
            "text/plain": [
              "array([[2.66666667, 1.66666667],\n",
              "       [1.66666667, 2.66666667]])"
            ]
          },
          "metadata": {},
          "execution_count": 7
        }
      ]
    },
    {
      "cell_type": "markdown",
      "source": [
        "# Step5 : Calculate Optimal Projection Vector"
      ],
      "metadata": {
        "id": "Qsc7fX6Mq2Tq"
      }
    },
    {
      "cell_type": "code",
      "source": [
        "mean = np.array(mean, dtype=float)\n",
        "diffrence_matrix = mean[0] - mean[1]\n",
        "associated = np.linalg.inv(final_scatter_matrix) @ diffrence_matrix"
      ],
      "metadata": {
        "id": "nbEz-2Tnq8aO"
      },
      "execution_count": null,
      "outputs": []
    },
    {
      "cell_type": "code",
      "source": [
        "associated"
      ],
      "metadata": {
        "colab": {
          "base_uri": "https://localhost:8080/"
        },
        "id": "Z7jJcV720EhQ",
        "outputId": "e4121acd-98b1-494c-a824-5204ce631969"
      },
      "execution_count": null,
      "outputs": [
        {
          "output_type": "execute_result",
          "data": {
            "text/plain": [
              "array([1.15384615, 0.15384615])"
            ]
          },
          "metadata": {},
          "execution_count": 9
        }
      ]
    },
    {
      "cell_type": "markdown",
      "source": [
        "# Step6 : Normalize Optimal Projection Vector"
      ],
      "metadata": {
        "id": "CcwpVg6h2ZrG"
      }
    },
    {
      "cell_type": "code",
      "source": [
        "norm = np.linalg.norm(associated)\n",
        "projection_vector = associated / norm"
      ],
      "metadata": {
        "id": "uC0JZEuF2lXt"
      },
      "execution_count": null,
      "outputs": []
    },
    {
      "cell_type": "code",
      "source": [
        "projection_vector"
      ],
      "metadata": {
        "colab": {
          "base_uri": "https://localhost:8080/"
        },
        "id": "CZCayJEh3FXY",
        "outputId": "6b604b56-dc40-4d86-d0d8-3621edd9b574"
      },
      "execution_count": null,
      "outputs": [
        {
          "output_type": "execute_result",
          "data": {
            "text/plain": [
              "array([0.9912279 , 0.13216372])"
            ]
          },
          "metadata": {},
          "execution_count": 11
        }
      ]
    },
    {
      "cell_type": "markdown",
      "source": [
        "# Step7 : Reduce Dimension with LDA"
      ],
      "metadata": {
        "id": "BQdTELeO3ahY"
      }
    },
    {
      "cell_type": "code",
      "source": [
        "transform_class1 = []\n",
        "for row in class1:\n",
        "    transform_class1.append(np.dot(row, projection_vector))\n",
        "\n",
        "transform_class2 = []\n",
        "for row in class2:\n",
        "    transform_class2.append(np.dot(row, projection_vector))"
      ],
      "metadata": {
        "id": "HdWuj4sP3njf"
      },
      "execution_count": null,
      "outputs": []
    },
    {
      "cell_type": "code",
      "source": [
        "transform_class1"
      ],
      "metadata": {
        "colab": {
          "base_uri": "https://localhost:8080/"
        },
        "id": "boKyuHDe5c0k",
        "outputId": "c40e7152-f89a-4926-ea02-97c652228a10"
      },
      "execution_count": null,
      "outputs": [
        {
          "output_type": "execute_result",
          "data": {
            "text/plain": [
              "[2.1146195214562873, 3.23801114222994, 0.9912279006826347]"
            ]
          },
          "metadata": {},
          "execution_count": 13
        }
      ]
    },
    {
      "cell_type": "code",
      "source": [
        "transform_class2"
      ],
      "metadata": {
        "colab": {
          "base_uri": "https://localhost:8080/"
        },
        "id": "9dpLXF87uXqm",
        "outputId": "8e8060c5-2809-40e4-cfc8-93a3532269a9"
      },
      "execution_count": null,
      "outputs": [
        {
          "output_type": "execute_result",
          "data": {
            "text/plain": [
              "[-1.2555553408646705, -2.1146195214562873, -1.1233916207736527]"
            ]
          },
          "metadata": {},
          "execution_count": 14
        }
      ]
    }
  ]
}